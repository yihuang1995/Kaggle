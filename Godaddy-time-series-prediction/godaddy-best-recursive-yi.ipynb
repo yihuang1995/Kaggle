{
 "cells": [
  {
   "cell_type": "code",
   "execution_count": 1,
   "id": "69cb100f",
   "metadata": {
    "_cell_guid": "b1076dfc-b9ad-4769-8c92-a6c4dae69d19",
    "_uuid": "8f2839f25d086af736a60e9eeb907d3b93b6e0e5",
    "execution": {
     "iopub.execute_input": "2023-03-13T21:14:45.318295Z",
     "iopub.status.busy": "2023-03-13T21:14:45.317684Z",
     "iopub.status.idle": "2023-03-13T21:14:45.466034Z",
     "shell.execute_reply": "2023-03-13T21:14:45.463497Z"
    },
    "papermill": {
     "duration": 0.162645,
     "end_time": "2023-03-13T21:14:45.468971",
     "exception": false,
     "start_time": "2023-03-13T21:14:45.306326",
     "status": "completed"
    },
    "tags": []
   },
   "outputs": [],
   "source": [
    "import gc\n",
    "import numpy as np\n",
    "import pandas as pd\n",
    "import os\n",
    "from tqdm.notebook import tqdm\n",
    "BASE = '../input/godaddy-microbusiness-density-forecasting/'\n",
    "\n",
    "def smape(y_true, y_pred):\n",
    "    smap = np.zeros(len(y_true))\n",
    "    \n",
    "    num = np.abs(y_true - y_pred)\n",
    "    dem = ((np.abs(y_true) + np.abs(y_pred)) / 2)\n",
    "    \n",
    "    pos_ind = (y_true!=0)|(y_pred!=0)\n",
    "    smap[pos_ind] = num[pos_ind] / dem[pos_ind]\n",
    "    \n",
    "    return 100 * np.mean(smap)\n",
    "\n",
    "def vsmape(y_true, y_pred):\n",
    "    smap = np.zeros(len(y_true))\n",
    "    \n",
    "    num = np.abs(y_true - y_pred)\n",
    "    dem = ((np.abs(y_true) + np.abs(y_pred)) / 2)\n",
    "    \n",
    "    pos_ind = (y_true!=0)|(y_pred!=0)\n",
    "    smap[pos_ind] = num[pos_ind] / dem[pos_ind]\n",
    "    \n",
    "    return 100 * smap"
   ]
  },
  {
   "cell_type": "code",
   "execution_count": 2,
   "id": "f343ab9c",
   "metadata": {
    "execution": {
     "iopub.execute_input": "2023-03-13T21:14:45.487243Z",
     "iopub.status.busy": "2023-03-13T21:14:45.486832Z",
     "iopub.status.idle": "2023-03-13T21:14:46.454603Z",
     "shell.execute_reply": "2023-03-13T21:14:46.453140Z"
    },
    "papermill": {
     "duration": 0.980174,
     "end_time": "2023-03-13T21:14:46.457321",
     "exception": false,
     "start_time": "2023-03-13T21:14:45.477147",
     "status": "completed"
    },
    "tags": []
   },
   "outputs": [
    {
     "name": "stdout",
     "output_type": "stream",
     "text": [
      "(128535, 8) (18810, 3) (25080, 2)\n"
     ]
    }
   ],
   "source": [
    "census = pd.read_csv(BASE + 'census_starter.csv')\n",
    "train = pd.read_csv(BASE + 'train.csv')\n",
    "reaveal_test = pd.read_csv(BASE + 'revealed_test.csv')\n",
    "train = pd.concat([train, reaveal_test]).sort_values(by=['cfips','first_day_of_month']).reset_index()\n",
    "test = pd.read_csv(BASE + 'test.csv')\n",
    "drop_index = (test.first_day_of_month == '2022-11-01') | (test.first_day_of_month == '2022-12-01')\n",
    "test = test.loc[~drop_index,:]\n",
    "\n",
    "sub = pd.read_csv(BASE + 'sample_submission.csv')\n",
    "coords = pd.read_csv(\"/kaggle/input/usa-counties-coordinates/cfips_location.csv\")\n",
    "print(train.shape, test.shape, sub.shape)\n",
    "\n",
    "train['istest'] = 0\n",
    "test['istest'] = 1\n",
    "raw = pd.concat((train, test)).sort_values(['cfips','row_id']).reset_index(drop=True)\n",
    "raw = raw.merge(coords.drop(\"name\", axis=1), on=\"cfips\")\n",
    "\n",
    "raw['state_i1'] = raw['state'].astype('category')\n",
    "raw['county_i1'] = raw['county'].astype('category')\n",
    "raw['first_day_of_month'] = pd.to_datetime(raw[\"first_day_of_month\"])\n",
    "raw['county'] = raw.groupby('cfips')['county'].ffill()\n",
    "raw['state'] = raw.groupby('cfips')['state'].ffill()\n",
    "raw[\"dcount\"] = raw.groupby(['cfips'])['row_id'].cumcount()\n",
    "raw['county_i'] = (raw['county'] + raw['state']).factorize()[0]\n",
    "raw['state_i'] = raw['state'].factorize()[0]\n",
    "raw['scale'] = (raw['first_day_of_month'] - raw['first_day_of_month'].min()).dt.days\n",
    "raw['scale'] = raw['scale'].factorize()[0]\n",
    "os.environ[\"CUDA_VISIBLE_DEVICES\"]=\"0\"\n"
   ]
  },
  {
   "cell_type": "markdown",
   "id": "3057e699",
   "metadata": {
    "papermill": {
     "duration": 0.008719,
     "end_time": "2023-03-13T21:14:46.474364",
     "exception": false,
     "start_time": "2023-03-13T21:14:46.465645",
     "status": "completed"
    },
    "tags": []
   },
   "source": [
    "# There are some anomalies, specially at timestep 18"
   ]
  },
  {
   "cell_type": "code",
   "execution_count": 3,
   "id": "9c4823ab",
   "metadata": {
    "execution": {
     "iopub.execute_input": "2023-03-13T21:14:46.493220Z",
     "iopub.status.busy": "2023-03-13T21:14:46.492799Z",
     "iopub.status.idle": "2023-03-13T21:14:53.097581Z",
     "shell.execute_reply": "2023-03-13T21:14:53.096120Z"
    },
    "papermill": {
     "duration": 6.61768,
     "end_time": "2023-03-13T21:14:53.100440",
     "exception": false,
     "start_time": "2023-03-13T21:14:46.482760",
     "status": "completed"
    },
    "scrolled": true,
    "tags": []
   },
   "outputs": [
    {
     "data": {
      "application/vnd.jupyter.widget-view+json": {
       "model_id": "368dfcac1019440983225e7b3b0eb4d8",
       "version_major": 2,
       "version_minor": 0
      },
      "text/plain": [
       "  0%|          | 0/3135 [00:00<?, ?it/s]"
      ]
     },
     "metadata": {},
     "output_type": "display_data"
    }
   ],
   "source": [
    "for o in tqdm(raw.cfips.unique()): \n",
    "    indices = (raw['cfips'] == o) \n",
    "    tmp = raw.loc[indices].copy().reset_index(drop=True)\n",
    "    var = tmp.microbusiness_density.values.copy()\n",
    "    for i in range(37, 2, -1):\n",
    "        thr = 0.10 * np.mean(var[:i]) \n",
    "        difa = var[i] - var[i - 1] \n",
    "        if (difa >= thr) or (difa <= -thr):              \n",
    "            if difa > 0:\n",
    "                var[:i] += difa - 0.003 \n",
    "            else:\n",
    "                var[:i] += difa + 0.003  \n",
    "    var[0] = var[1] * 0.99\n",
    "    raw.loc[indices, 'microbusiness_density'] = var\n"
   ]
  },
  {
   "cell_type": "code",
   "execution_count": 4,
   "id": "40b85897",
   "metadata": {
    "execution": {
     "iopub.execute_input": "2023-03-13T21:14:53.121866Z",
     "iopub.status.busy": "2023-03-13T21:14:53.121405Z",
     "iopub.status.idle": "2023-03-13T21:14:53.150254Z",
     "shell.execute_reply": "2023-03-13T21:14:53.149081Z"
    },
    "papermill": {
     "duration": 0.041821,
     "end_time": "2023-03-13T21:14:53.152979",
     "exception": false,
     "start_time": "2023-03-13T21:14:53.111158",
     "status": "completed"
    },
    "tags": []
   },
   "outputs": [],
   "source": [
    "lag = 1\n",
    "raw[f'mbd_lag_{lag}'] = raw.groupby('cfips')['microbusiness_density'].shift(lag).bfill()\n",
    "raw['dif'] = (raw['microbusiness_density'] / raw[f'mbd_lag_{lag}']).fillna(1).clip(0, None) - 1\n",
    "raw.loc[(raw[f'mbd_lag_{lag}']==0), 'dif'] = 0\n",
    "raw.loc[(raw[f'microbusiness_density']>0) & (raw[f'mbd_lag_{lag}']==0), 'dif'] = 1\n",
    "raw['dif'] = raw['dif'].abs()\n"
   ]
  },
  {
   "cell_type": "markdown",
   "id": "419c6e1b",
   "metadata": {
    "papermill": {
     "duration": 0.007683,
     "end_time": "2023-03-13T21:14:53.168976",
     "exception": false,
     "start_time": "2023-03-13T21:14:53.161293",
     "status": "completed"
    },
    "tags": []
   },
   "source": [
    "# SMAPE is a relative metric so target must be converted."
   ]
  },
  {
   "cell_type": "code",
   "execution_count": 5,
   "id": "81b39535",
   "metadata": {
    "execution": {
     "iopub.execute_input": "2023-03-13T21:14:53.187663Z",
     "iopub.status.busy": "2023-03-13T21:14:53.186258Z",
     "iopub.status.idle": "2023-03-13T21:14:53.214432Z",
     "shell.execute_reply": "2023-03-13T21:14:53.211951Z"
    },
    "papermill": {
     "duration": 0.040339,
     "end_time": "2023-03-13T21:14:53.217475",
     "exception": false,
     "start_time": "2023-03-13T21:14:53.177136",
     "status": "completed"
    },
    "scrolled": true,
    "tags": []
   },
   "outputs": [],
   "source": [
    "raw['target'] = raw.groupby('cfips')['microbusiness_density'].shift(-1)\n",
    "raw['target'] = raw['target']/raw['microbusiness_density'] - 1\n",
    "raw['lastactive'] = raw.groupby('cfips')['active'].transform('last')\n",
    "\n",
    "raw.loc[raw['cfips']==28055, 'target'] = 0.0\n",
    "raw.loc[raw['cfips']==48269, 'target'] = 0.0"
   ]
  },
  {
   "cell_type": "markdown",
   "id": "dd4eec68",
   "metadata": {
    "papermill": {
     "duration": 0.00738,
     "end_time": "2023-03-13T21:14:53.233101",
     "exception": false,
     "start_time": "2023-03-13T21:14:53.225721",
     "status": "completed"
    },
    "tags": []
   },
   "source": [
    "# Feature Engineering\n",
    "> Try tuning this part"
   ]
  },
  {
   "cell_type": "code",
   "execution_count": 6,
   "id": "1ddf72b4",
   "metadata": {
    "execution": {
     "iopub.execute_input": "2023-03-13T21:14:53.250976Z",
     "iopub.status.busy": "2023-03-13T21:14:53.250566Z",
     "iopub.status.idle": "2023-03-13T21:14:53.262626Z",
     "shell.execute_reply": "2023-03-13T21:14:53.261422Z"
    },
    "papermill": {
     "duration": 0.024374,
     "end_time": "2023-03-13T21:14:53.265352",
     "exception": false,
     "start_time": "2023-03-13T21:14:53.240978",
     "status": "completed"
    },
    "tags": []
   },
   "outputs": [],
   "source": [
    "def build_features(raw, target='microbusiness_density', target_act='active_tmp', lags = 6):\n",
    "    feats = []   \n",
    "\n",
    "    for lag in range(1, lags):\n",
    "        raw[f'mbd_lag_{lag}'] = raw.groupby('cfips')[target].shift(lag)\n",
    "#         raw[f'act_lag_{lag}'] = raw.groupby('cfips')[target_act].diff(lag)\n",
    "        feats.append(f'mbd_lag_{lag}')\n",
    "#         feats.append(f'act_lag_{lag}')\n",
    "        \n",
    "    lag = 1\n",
    "    for window in [2, 4, 6, 8, 10]:\n",
    "        raw[f'mbd_rollmea{window}_{lag}'] = raw.groupby('cfips')[f'mbd_lag_{lag}'].transform(lambda s: s.rolling(window, min_periods=1).sum())        \n",
    "        feats.append(f'mbd_rollmea{window}_{lag}')\n",
    "    \n",
    "    census_columns = list(census.columns)\n",
    "    census_columns.remove( \"cfips\")\n",
    "    \n",
    "    raw = raw.merge(census, on=\"cfips\", how=\"left\")\n",
    "    feats += census_columns\n",
    "    \n",
    "    co_est = pd.read_csv(\"/kaggle/input/us-indicator/co-est2021-alldata.csv\", encoding='latin-1')\n",
    "    co_est[\"cfips\"] = co_est.STATE*1000 + co_est.COUNTY\n",
    "    co_columns = [\n",
    "        'SUMLEV',\n",
    "        'DIVISION',\n",
    "        'ESTIMATESBASE2020',\n",
    "        'POPESTIMATE2020',\n",
    "        'POPESTIMATE2021',\n",
    "        'NPOPCHG2020',\n",
    "        'NPOPCHG2021',\n",
    "        'BIRTHS2020',\n",
    "        'BIRTHS2021',\n",
    "        'DEATHS2020',\n",
    "        'DEATHS2021',\n",
    "        'NATURALCHG2020',\n",
    "        'NATURALCHG2021',\n",
    "        'INTERNATIONALMIG2020',\n",
    "        'INTERNATIONALMIG2021',\n",
    "        'DOMESTICMIG2020',\n",
    "        'DOMESTICMIG2021',\n",
    "        'NETMIG2020',\n",
    "        'NETMIG2021',\n",
    "        'RESIDUAL2020',\n",
    "        'RESIDUAL2021',\n",
    "        'GQESTIMATESBASE2020',\n",
    "        'GQESTIMATES2020',\n",
    "        'GQESTIMATES2021',\n",
    "        'RBIRTH2021',\n",
    "        'RDEATH2021',\n",
    "        'RNATURALCHG2021',\n",
    "        'RINTERNATIONALMIG2021',\n",
    "        'RDOMESTICMIG2021',\n",
    "        'RNETMIG2021'\n",
    "    ]\n",
    "    raw = raw.merge(co_est, on=\"cfips\", how=\"left\")\n",
    "    feats +=  co_columns\n",
    "    return raw, feats"
   ]
  },
  {
   "cell_type": "code",
   "execution_count": 7,
   "id": "b31b5fa8",
   "metadata": {
    "execution": {
     "iopub.execute_input": "2023-03-13T21:14:53.284912Z",
     "iopub.status.busy": "2023-03-13T21:14:53.284391Z",
     "iopub.status.idle": "2023-03-13T21:14:57.832625Z",
     "shell.execute_reply": "2023-03-13T21:14:57.831036Z"
    },
    "papermill": {
     "duration": 4.56167,
     "end_time": "2023-03-13T21:14:57.835730",
     "exception": false,
     "start_time": "2023-03-13T21:14:53.274060",
     "status": "completed"
    },
    "scrolled": true,
    "tags": []
   },
   "outputs": [],
   "source": [
    "# Build Features based in lag of target\n",
    "raw, feats = build_features(raw, 'target', 'active', lags = 9)\n",
    "features = ['state_i']\n",
    "features += feats\n",
    "features += ['lng','lat','scale']\n",
    "# print(features)\n",
    "# raw.loc[raw.dcount==40, features].head(10)"
   ]
  },
  {
   "cell_type": "markdown",
   "id": "894155de",
   "metadata": {
    "papermill": {
     "duration": 0.007839,
     "end_time": "2023-03-13T21:14:57.852130",
     "exception": false,
     "start_time": "2023-03-13T21:14:57.844291",
     "status": "completed"
    },
    "tags": []
   },
   "source": [
    "# Latitude and Longitude\n",
    "Latitude and Longitude feature engineering from samu2505."
   ]
  },
  {
   "cell_type": "code",
   "execution_count": 8,
   "id": "772f361f",
   "metadata": {
    "execution": {
     "iopub.execute_input": "2023-03-13T21:14:57.871275Z",
     "iopub.status.busy": "2023-03-13T21:14:57.870759Z",
     "iopub.status.idle": "2023-03-13T21:14:58.037990Z",
     "shell.execute_reply": "2023-03-13T21:14:58.036208Z"
    },
    "papermill": {
     "duration": 0.180781,
     "end_time": "2023-03-13T21:14:58.041257",
     "exception": false,
     "start_time": "2023-03-13T21:14:57.860476",
     "status": "completed"
    },
    "tags": []
   },
   "outputs": [],
   "source": [
    "coordinates = raw[['lng', 'lat']].values\n",
    "\n",
    "# Encoding tricks\n",
    "emb_size = 20\n",
    "precision = 1e6\n",
    "\n",
    "latlon = np.expand_dims(coordinates, axis=-1)\n",
    "\n",
    "m = np.exp(np.log(precision)/emb_size)\n",
    "angle_freq = m ** np.arange(emb_size)\n",
    "angle_freq = angle_freq.reshape(1,1, emb_size)\n",
    "latlon = latlon * angle_freq\n",
    "latlon[..., 0::2] = np.cos(latlon[..., 0::2])"
   ]
  },
  {
   "cell_type": "code",
   "execution_count": 9,
   "id": "b9399b9d",
   "metadata": {
    "execution": {
     "iopub.execute_input": "2023-03-13T21:14:58.060416Z",
     "iopub.status.busy": "2023-03-13T21:14:58.060015Z",
     "iopub.status.idle": "2023-03-13T21:14:58.079224Z",
     "shell.execute_reply": "2023-03-13T21:14:58.077283Z"
    },
    "papermill": {
     "duration": 0.03209,
     "end_time": "2023-03-13T21:14:58.082323",
     "exception": false,
     "start_time": "2023-03-13T21:14:58.050233",
     "status": "completed"
    },
    "tags": []
   },
   "outputs": [],
   "source": [
    "def rot(df):\n",
    "    for angle in [15, 30, 45]:\n",
    "        df[f'rot_{angle}_x'] = (np.cos(np.radians(angle)) * df['lat']) + \\\n",
    "                                (np.sin(np.radians(angle)) * df['lng'])\n",
    "        \n",
    "        df[f'rot_{angle}_y'] = (np.cos(np.radians(angle)) * df['lat']) - \\\n",
    "                                (np.sin(np.radians(angle)) * df['lng'])\n",
    "        \n",
    "    return df\n",
    "\n",
    "raw = rot(raw)"
   ]
  },
  {
   "cell_type": "code",
   "execution_count": 10,
   "id": "176ece84",
   "metadata": {
    "execution": {
     "iopub.execute_input": "2023-03-13T21:14:58.100433Z",
     "iopub.status.busy": "2023-03-13T21:14:58.100005Z",
     "iopub.status.idle": "2023-03-13T21:14:58.105247Z",
     "shell.execute_reply": "2023-03-13T21:14:58.104322Z"
    },
    "papermill": {
     "duration": 0.016501,
     "end_time": "2023-03-13T21:14:58.106976",
     "exception": false,
     "start_time": "2023-03-13T21:14:58.090475",
     "status": "completed"
    },
    "tags": []
   },
   "outputs": [],
   "source": [
    "features += ['rot_15_x', 'rot_15_y', 'rot_30_x', 'rot_30_y', 'rot_45_x', 'rot_45_y']"
   ]
  },
  {
   "cell_type": "markdown",
   "id": "e18cbebd",
   "metadata": {
    "papermill": {
     "duration": 0.007657,
     "end_time": "2023-03-13T21:14:58.123108",
     "exception": false,
     "start_time": "2023-03-13T21:14:58.115451",
     "status": "completed"
    },
    "tags": []
   },
   "source": [
    "# CPI"
   ]
  },
  {
   "cell_type": "code",
   "execution_count": 11,
   "id": "d2802f6f",
   "metadata": {
    "execution": {
     "iopub.execute_input": "2023-03-13T21:14:58.142725Z",
     "iopub.status.busy": "2023-03-13T21:14:58.142246Z",
     "iopub.status.idle": "2023-03-13T21:15:00.237605Z",
     "shell.execute_reply": "2023-03-13T21:15:00.236018Z"
    },
    "papermill": {
     "duration": 2.109412,
     "end_time": "2023-03-13T21:15:00.240627",
     "exception": false,
     "start_time": "2023-03-13T21:14:58.131215",
     "status": "completed"
    },
    "tags": []
   },
   "outputs": [],
   "source": [
    "raw['year']=raw.first_day_of_month.dt.year\n",
    "raw['month']=raw.first_day_of_month.dt.month\n",
    "\n",
    "cpi= pd.read_csv('../input/go-daddy-cpi/go_daddy_cpi - Sheet1.csv')\n",
    "cpi['category'] = pd.to_datetime(cpi['category'] )\n",
    "cpi[\"year\"] = cpi['category'] .dt.year\n",
    "cpi[\"month\"] = cpi['category'] .dt.month\n",
    "cpi[\"dcount\"] = cpi.index\n",
    "cpi.loc[8,'flour_cpi']= 0.458\n",
    "\n",
    "from sklearn.linear_model import LinearRegression\n",
    "# predict from 2022-05-01\n",
    "pred_cpi_set = cpi[cpi.category>='2022-05-01']\n",
    "pred_cpi_set\n",
    "result_list = []\n",
    "for col in pred_cpi_set.columns[1:-3]:\n",
    "    X = np.array(range(1,10)).reshape(-1, 1)\n",
    "    X_pred = np.array(range(10,15)).reshape(-1, 1)\n",
    "    Y = pred_cpi_set[col].values[:9]\n",
    "    linear_regressor = LinearRegression()  # create object for the class\n",
    "    linear_regressor.fit(X, Y)  # perform linear regression\n",
    "    Y_pred = linear_regressor.predict(X_pred)\n",
    "    result_list.append(Y_pred)\n",
    "for i,col in enumerate(cpi.columns[1:-3]):\n",
    "    cpi.loc[42:,col] = result_list[i]\n",
    "\n",
    "cpi.rename(columns = {'category':'first_day_of_month'}, inplace = True)\n",
    "\n",
    "# merge into the originalset \n",
    "raw = raw.merge(cpi, on=['first_day_of_month','year','month','dcount'], how='left')\n",
    "\n",
    "features += ['electricity_cpi','fuel_cpi','gas_all_cpi','gas_unleaded_cpi','cpi_all_urban']"
   ]
  },
  {
   "cell_type": "markdown",
   "id": "7c421df8",
   "metadata": {
    "papermill": {
     "duration": 0.007376,
     "end_time": "2023-03-13T21:15:00.256389",
     "exception": false,
     "start_time": "2023-03-13T21:15:00.249013",
     "status": "completed"
    },
    "tags": []
   },
   "source": [
    "# Covid"
   ]
  },
  {
   "cell_type": "code",
   "execution_count": 12,
   "id": "6d2ecf3f",
   "metadata": {
    "execution": {
     "iopub.execute_input": "2023-03-13T21:15:00.273820Z",
     "iopub.status.busy": "2023-03-13T21:15:00.273376Z",
     "iopub.status.idle": "2023-03-13T21:15:00.280453Z",
     "shell.execute_reply": "2023-03-13T21:15:00.277837Z"
    },
    "papermill": {
     "duration": 0.019354,
     "end_time": "2023-03-13T21:15:00.283275",
     "exception": false,
     "start_time": "2023-03-13T21:15:00.263921",
     "status": "completed"
    },
    "tags": []
   },
   "outputs": [],
   "source": [
    "# import datetime\n",
    "# df_c_2020=pd.read_csv('/kaggle/input/covid-data/us-counties-2020.csv',parse_dates=['date'])\n",
    "# df_c_2021=pd.read_csv('/kaggle/input/covid-data/us-counties-2021.csv',parse_dates=['date'])\n",
    "# df_c_2022=pd.read_csv('/kaggle/input/covid-data/us-counties-2022.csv',parse_dates=['date'])\n",
    "# df_c_2023=pd.read_csv('/kaggle/input/covid-data/us-counties-2023.csv',parse_dates=['date'])\n",
    "\n",
    "# df_c=pd.concat((df_c_2020,df_c_2021,df_c_2022,df_c_2023))\n",
    "# df_c=df_c[~df_c['fips'].isnull()]\n",
    "# df_c['cfips']=df_c['fips'].astype(int)\n",
    "# df_c['first_day_of_month']=df_c['date'].apply(lambda x: datetime.datetime(x.year,x.month,1))\n",
    "# df_c=df_c.groupby(['cfips','first_day_of_month'],as_index=False)[['cases','deaths']].sum()\n",
    "\n",
    "# raw=raw.merge(df_c,on=['cfips','first_day_of_month'],how='left')\n",
    "\n",
    "# # simply use 0 to fill since ppl dont give a F anymore\n",
    "# raw['cases']=raw['cases'].fillna(0)\n",
    "# raw['deaths']=raw['deaths'].fillna(0)\n",
    "\n",
    "# features+=['cases','deaths']"
   ]
  },
  {
   "cell_type": "markdown",
   "id": "4b3db3ef",
   "metadata": {
    "papermill": {
     "duration": 0.007718,
     "end_time": "2023-03-13T21:15:00.299305",
     "exception": false,
     "start_time": "2023-03-13T21:15:00.291587",
     "status": "completed"
    },
    "tags": []
   },
   "source": [
    "# Modeling"
   ]
  },
  {
   "cell_type": "code",
   "execution_count": 13,
   "id": "6a4c3781",
   "metadata": {
    "execution": {
     "iopub.execute_input": "2023-03-13T21:15:00.317446Z",
     "iopub.status.busy": "2023-03-13T21:15:00.316270Z",
     "iopub.status.idle": "2023-03-13T21:15:00.330942Z",
     "shell.execute_reply": "2023-03-13T21:15:00.328891Z"
    },
    "papermill": {
     "duration": 0.026162,
     "end_time": "2023-03-13T21:15:00.333203",
     "exception": false,
     "start_time": "2023-03-13T21:15:00.307041",
     "status": "completed"
    },
    "tags": []
   },
   "outputs": [],
   "source": [
    "def get_model():\n",
    "    from sklearn.ensemble import VotingRegressor\n",
    "    import lightgbm as lgb\n",
    "    import xgboost as xgb\n",
    "    import catboost as cat\n",
    "    from sklearn.pipeline import Pipeline\n",
    "    from sklearn.neighbors import KNeighborsRegressor\n",
    "    from sklearn.impute import KNNImputer    \n",
    "\n",
    "# we should decrease the num_iterations of catboost\n",
    "    cat_model = cat.CatBoostRegressor(\n",
    "        iterations=2000,\n",
    "        loss_function=\"MAPE\",\n",
    "        verbose=0,\n",
    "        grow_policy='SymmetricTree',\n",
    "        learning_rate=0.035,\n",
    "        colsample_bylevel=0.8,\n",
    "        max_depth=5,\n",
    "        l2_leaf_reg=0.2,\n",
    "        subsample=0.70,\n",
    "        max_bin=4096,\n",
    "    )\n",
    "\n",
    "    return cat_model\n",
    "\n",
    "\n",
    "def base_models():\n",
    "    from sklearn.ensemble import VotingRegressor\n",
    "    import lightgbm as lgb\n",
    "    import xgboost as xgb\n",
    "    import catboost as cat\n",
    "    from sklearn.pipeline import Pipeline\n",
    "    from sklearn.neighbors import KNeighborsRegressor\n",
    "    from sklearn.impute import KNNImputer   \n",
    "    from sklearn.ensemble import RandomForestRegressor\n",
    "    \n",
    "    # LGBM model\n",
    "    params = {\n",
    "    'n_iter': 300,\n",
    "    'boosting_type': 'dart',\n",
    "    'verbosity': -1,\n",
    "    'objective': 'l1',\n",
    "    'random_state': 42,\n",
    "    'colsample_bytree': 0.8841279649367693,\n",
    "    'colsample_bynode': 0.10142964450634374,\n",
    "    'max_depth': 8,\n",
    "    'learning_rate': 0.003647749926797374,\n",
    "    'lambda_l2': 0.5,\n",
    "    'num_leaves': 61,\n",
    "    \"seed\": 42,\n",
    "    'min_data_in_leaf': 213}\n",
    "\n",
    "    lgb_model = lgb.LGBMRegressor(**params)\n",
    "    \n",
    "    xgb_model = xgb.XGBRegressor(\n",
    "    objective='reg:pseudohubererror',\n",
    "    tree_method=\"hist\",\n",
    "    n_estimators=795,\n",
    "    learning_rate=0.0075,\n",
    "    max_leaves = 17,\n",
    "    subsample=0.50,\n",
    "    colsample_bytree=0.50,\n",
    "    max_bin=4096,\n",
    "    n_jobs=2)\n",
    "\n",
    "    # we should decrease the num_iterations of catboost\n",
    "    cat_model = cat.CatBoostRegressor(\n",
    "        iterations=2000,\n",
    "        loss_function=\"MAPE\",\n",
    "        verbose=0,\n",
    "        grow_policy='SymmetricTree',\n",
    "        learning_rate=0.035,\n",
    "        colsample_bylevel=0.8,\n",
    "        max_depth=5,\n",
    "        l2_leaf_reg=0.2,\n",
    "        subsample=0.70,\n",
    "        max_bin=4096,\n",
    "    )\n",
    "    \n",
    "    rf_params={'criterion':\"friedman_mse\",\n",
    "                # 'n_estimators': 80,\n",
    "                'n_estimators': 500,\n",
    "                'max_depth':5,\n",
    "               'max_leaf_nodes':17,\n",
    "               'n_jobs':-1,\n",
    "                \"random_state\": 42}\n",
    "    \n",
    "    rf_model=RandomForestRegressor(**rf_params)\n",
    "    \n",
    "    models = {}\n",
    "    models['xgb'] = xgb_model\n",
    "    models['lgbm'] = lgb_model\n",
    "    models['cat'] = cat_model\n",
    "    models['rf']=rf_model\n",
    "\n",
    "    return models"
   ]
  },
  {
   "cell_type": "code",
   "execution_count": 14,
   "id": "d8f1d82d",
   "metadata": {
    "execution": {
     "iopub.execute_input": "2023-03-13T21:15:00.352473Z",
     "iopub.status.busy": "2023-03-13T21:15:00.352025Z",
     "iopub.status.idle": "2023-03-13T21:15:00.357517Z",
     "shell.execute_reply": "2023-03-13T21:15:00.356275Z"
    },
    "papermill": {
     "duration": 0.01794,
     "end_time": "2023-03-13T21:15:00.359654",
     "exception": false,
     "start_time": "2023-03-13T21:15:00.341714",
     "status": "completed"
    },
    "tags": []
   },
   "outputs": [],
   "source": [
    "ACT_THR = 150\n",
    "MONTH_1 = 39\n",
    "MONTH_last = 40"
   ]
  },
  {
   "cell_type": "code",
   "execution_count": 15,
   "id": "14a4d892",
   "metadata": {
    "execution": {
     "iopub.execute_input": "2023-03-13T21:15:00.378778Z",
     "iopub.status.busy": "2023-03-13T21:15:00.378228Z",
     "iopub.status.idle": "2023-03-13T21:15:00.544075Z",
     "shell.execute_reply": "2023-03-13T21:15:00.542415Z"
    },
    "papermill": {
     "duration": 0.177897,
     "end_time": "2023-03-13T21:15:00.546149",
     "exception": false,
     "start_time": "2023-03-13T21:15:00.368252",
     "status": "completed"
    },
    "tags": []
   },
   "outputs": [
    {
     "data": {
      "text/plain": [
       "(128535, 117)"
      ]
     },
     "execution_count": 15,
     "metadata": {},
     "output_type": "execute_result"
    }
   ],
   "source": [
    "raw[raw.istest == 0].shape"
   ]
  },
  {
   "cell_type": "code",
   "execution_count": 16,
   "id": "5021a0f9",
   "metadata": {
    "execution": {
     "iopub.execute_input": "2023-03-13T21:15:00.565055Z",
     "iopub.status.busy": "2023-03-13T21:15:00.564650Z",
     "iopub.status.idle": "2023-03-13T21:22:35.752919Z",
     "shell.execute_reply": "2023-03-13T21:22:35.750844Z"
    },
    "papermill": {
     "duration": 455.207918,
     "end_time": "2023-03-13T21:22:35.762699",
     "exception": false,
     "start_time": "2023-03-13T21:15:00.554781",
     "status": "completed"
    },
    "tags": []
   },
   "outputs": [
    {
     "name": "stdout",
     "output_type": "stream",
     "text": [
      "TS: 39\n"
     ]
    },
    {
     "data": {
      "text/html": [
       "<style type='text/css'>\n",
       ".datatable table.frame { margin-bottom: 0; }\n",
       ".datatable table.frame thead { border-bottom: none; }\n",
       ".datatable table.frame tr.coltypes td {  color: #FFFFFF;  line-height: 6px;  padding: 0 0.5em;}\n",
       ".datatable .bool    { background: #DDDD99; }\n",
       ".datatable .object  { background: #565656; }\n",
       ".datatable .int     { background: #5D9E5D; }\n",
       ".datatable .float   { background: #4040CC; }\n",
       ".datatable .str     { background: #CC4040; }\n",
       ".datatable .time    { background: #40CC40; }\n",
       ".datatable .row_index {  background: var(--jp-border-color3);  border-right: 1px solid var(--jp-border-color0);  color: var(--jp-ui-font-color3);  font-size: 9px;}\n",
       ".datatable .frame tbody td { text-align: left; }\n",
       ".datatable .frame tr.coltypes .row_index {  background: var(--jp-border-color0);}\n",
       ".datatable th:nth-child(2) { padding-left: 12px; }\n",
       ".datatable .hellipsis {  color: var(--jp-cell-editor-border-color);}\n",
       ".datatable .vellipsis {  background: var(--jp-layout-color0);  color: var(--jp-cell-editor-border-color);}\n",
       ".datatable .na {  color: var(--jp-cell-editor-border-color);  font-size: 80%;}\n",
       ".datatable .sp {  opacity: 0.25;}\n",
       ".datatable .footer { font-size: 9px; }\n",
       ".datatable .frame_dimensions {  background: var(--jp-border-color3);  border-top: 1px solid var(--jp-border-color0);  color: var(--jp-ui-font-color3);  display: inline-block;  opacity: 0.6;  padding: 1px 10px 1px 5px;}\n",
       "</style>\n"
      ],
      "text/plain": [
       "<IPython.core.display.HTML object>"
      ]
     },
     "metadata": {},
     "output_type": "display_data"
    },
    {
     "name": "stderr",
     "output_type": "stream",
     "text": [
      "/opt/conda/lib/python3.7/site-packages/lightgbm/engine.py:177: UserWarning: Found `n_iter` in params. Will use it instead of argument\n",
      "  _log_warning(f\"Found `{alias}` in params. Will use it instead of argument\")\n"
     ]
    },
    {
     "name": "stdout",
     "output_type": "stream",
     "text": [
      "[LightGBM] [Warning] lambda_l2 is set=0.5, reg_lambda=0.0 will be ignored. Current value: lambda_l2=0.5\n",
      "[LightGBM] [Warning] min_data_in_leaf is set=213, min_child_samples=20 will be ignored. Current value: min_data_in_leaf=213\n",
      "[LightGBM] [Warning] seed is set=42, random_state=42 will be ignored. Current value: seed=42\n",
      "[LightGBM] [Warning] num_iterations is set=300, n_iter=300 will be ignored. Current value: num_iterations=300\n",
      "Last Value SMAPE: 1.889206717018118\n",
      "SMAPE: 1.8836244393276316\n",
      "\n",
      "SMAPE: 1.8836244393276316\n",
      "Last Value SMAPE: 1.889206717018118\n"
     ]
    }
   ],
   "source": [
    "raw['ypred_last'] = np.nan\n",
    "raw['ypred'] = np.nan\n",
    "raw['k'] = 1.\n",
    "raw['microbusiness_density'].fillna(0, inplace = True)\n",
    "\n",
    "\n",
    "for TS in range(MONTH_1, MONTH_last): #40):\n",
    "    print(f'TS: {TS}')\n",
    "   \n",
    "    # model = get_model()\n",
    "    models = base_models()\n",
    "    model0 = models['xgb']\n",
    "    model1 = models['lgbm']\n",
    "    model2 = models['cat']\n",
    "    model3 = models['rf']\n",
    "            \n",
    "    train_indices = (raw.istest==0) & (raw.dcount  < TS) & (raw.dcount >= 1) & (raw.lastactive>ACT_THR) \n",
    "    valid_indices = (raw.istest==0) & (raw.dcount == TS) \n",
    "    \n",
    "    # Train each of the models on the current TS\n",
    "    model0.fit(\n",
    "        raw.loc[train_indices, features],\n",
    "        raw.loc[train_indices, 'target'].clip(-0.002, 0.006))\n",
    "    \n",
    "    model1.fit(\n",
    "        raw.loc[train_indices, features],\n",
    "        raw.loc[train_indices, 'target'].clip(-0.002, 0.006))\n",
    "    \n",
    "    model2.fit(\n",
    "        raw.loc[train_indices, features],\n",
    "        raw.loc[train_indices, 'target'].clip(-0.002, 0.006))\n",
    "    \n",
    "    model3.fit(\n",
    "        raw.loc[train_indices, features].fillna(method='bfill'),\n",
    "        raw.loc[train_indices, 'target'].clip(-0.002, 0.006))    \n",
    "    \n",
    "\n",
    "    tr_pred0 = model0.predict(raw.loc[train_indices, features])\n",
    "    tr_pred1 = model1.predict(raw.loc[train_indices, features])\n",
    "    tr_pred2 = model2.predict(raw.loc[train_indices, features])\n",
    "    tr_pred3 = model3.predict(raw.loc[train_indices, features].fillna(method='bfill'))\n",
    "    train_preds = np.column_stack((tr_pred0, tr_pred1, tr_pred2,tr_pred3))\n",
    "    \n",
    "    meta_model = get_model() \n",
    "    meta_model.fit(train_preds, raw.loc[train_indices, 'target'].clip(-0.002, 0.006))\n",
    "    \n",
    "    val_preds0 = model0.predict(raw.loc[valid_indices, features])\n",
    "    val_preds1 = model1.predict(raw.loc[valid_indices, features])\n",
    "    val_preds2 = model2.predict(raw.loc[valid_indices, features])\n",
    "    val_preds3 = model3.predict(raw.loc[valid_indices, features].fillna(method='bfill'))\n",
    "    valid_preds = np.column_stack((val_preds0, val_preds1, val_preds2,val_preds3))\n",
    "    \n",
    "    ypred = meta_model.predict(valid_preds)\n",
    "    raw.loc[valid_indices, 'k'] = ypred + 1\n",
    "    raw.loc[valid_indices,'k'] = raw.loc[valid_indices,'k'] * raw.loc[valid_indices,'microbusiness_density']\n",
    "\n",
    "    # Validate\n",
    "    lastval = raw.loc[raw.dcount==TS, ['cfips', 'microbusiness_density']].set_index('cfips').to_dict()['microbusiness_density']\n",
    "    dt = raw.loc[raw.dcount==TS, ['cfips', 'k']].set_index('cfips').to_dict()['k']\n",
    "    \n",
    "    df = raw.loc[raw.dcount==(TS+1), \n",
    "                 ['cfips', 'microbusiness_density', 'state', 'lastactive', 'mbd_lag_1']].reset_index(drop=True)\n",
    "    df['pred'] = df['cfips'].map(dt)\n",
    "    df['lastval'] = df['cfips'].map(lastval)\n",
    "    \n",
    "#     df.loc[df['lastval'].isnull(), 'lastval'] = df.loc[df['lastval'].isnull(), 'microbusiness_density']    \n",
    "    \n",
    "    df.loc[df['lastactive']<=ACT_THR, 'pred'] = df.loc[df['lastactive']<=ACT_THR, 'lastval']\n",
    "        \n",
    "    raw.loc[raw.dcount==(TS+1), 'ypred'] = df['pred'].values\n",
    "    raw.loc[raw.dcount==(TS+1), 'ypred_last'] = df['lastval'].values\n",
    "    \n",
    "    print('Last Value SMAPE:', smape(df['microbusiness_density'], df['lastval']) )\n",
    "    print('SMAPE:', smape(df['microbusiness_density'], df['pred']))\n",
    "    print()\n",
    "\n",
    "ind = (raw.dcount > MONTH_1)&(raw.dcount <= MONTH_last)\n",
    "\n",
    "print('SMAPE:', smape( raw.loc[ind, 'microbusiness_density'],  raw.loc[ind, 'ypred']))\n",
    "print('Last Value SMAPE:', smape( raw.loc[ind, 'microbusiness_density'],  raw.loc[ind, 'ypred_last']))"
   ]
  },
  {
   "cell_type": "code",
   "execution_count": 17,
   "id": "ced14972",
   "metadata": {
    "execution": {
     "iopub.execute_input": "2023-03-13T21:22:35.782901Z",
     "iopub.status.busy": "2023-03-13T21:22:35.781810Z",
     "iopub.status.idle": "2023-03-13T21:22:35.803410Z",
     "shell.execute_reply": "2023-03-13T21:22:35.802196Z"
    },
    "papermill": {
     "duration": 0.034369,
     "end_time": "2023-03-13T21:22:35.805651",
     "exception": false,
     "start_time": "2023-03-13T21:22:35.771282",
     "status": "completed"
    },
    "tags": []
   },
   "outputs": [
    {
     "data": {
      "text/html": [
       "<div>\n",
       "<style scoped>\n",
       "    .dataframe tbody tr th:only-of-type {\n",
       "        vertical-align: middle;\n",
       "    }\n",
       "\n",
       "    .dataframe tbody tr th {\n",
       "        vertical-align: top;\n",
       "    }\n",
       "\n",
       "    .dataframe thead th {\n",
       "        text-align: right;\n",
       "    }\n",
       "</style>\n",
       "<table border=\"1\" class=\"dataframe\">\n",
       "  <thead>\n",
       "    <tr style=\"text-align: right;\">\n",
       "      <th></th>\n",
       "      <th>index</th>\n",
       "      <th>row_id</th>\n",
       "      <th>cfips</th>\n",
       "      <th>county</th>\n",
       "      <th>state</th>\n",
       "      <th>first_day_of_month</th>\n",
       "      <th>microbusiness_density</th>\n",
       "      <th>active</th>\n",
       "      <th>istest</th>\n",
       "      <th>lng</th>\n",
       "      <th>...</th>\n",
       "      <th>rice_cpi</th>\n",
       "      <th>tomato_cpi</th>\n",
       "      <th>electricity_cpi</th>\n",
       "      <th>fuel_cpi</th>\n",
       "      <th>gas_all_cpi</th>\n",
       "      <th>gas_unleaded_cpi</th>\n",
       "      <th>cpi_all_urban</th>\n",
       "      <th>ypred_last</th>\n",
       "      <th>ypred</th>\n",
       "      <th>k</th>\n",
       "    </tr>\n",
       "  </thead>\n",
       "  <tbody>\n",
       "  </tbody>\n",
       "</table>\n",
       "<p>0 rows × 120 columns</p>\n",
       "</div>"
      ],
      "text/plain": [
       "Empty DataFrame\n",
       "Columns: [index, row_id, cfips, county, state, first_day_of_month, microbusiness_density, active, istest, lng, lat, state_i1, county_i1, dcount, county_i, state_i, scale, mbd_lag_1, dif, target, lastactive, mbd_lag_2, mbd_lag_3, mbd_lag_4, mbd_lag_5, mbd_lag_6, mbd_lag_7, mbd_lag_8, mbd_rollmea2_1, mbd_rollmea4_1, mbd_rollmea6_1, mbd_rollmea8_1, mbd_rollmea10_1, pct_bb_2017, pct_bb_2018, pct_bb_2019, pct_bb_2020, pct_bb_2021, pct_college_2017, pct_college_2018, pct_college_2019, pct_college_2020, pct_college_2021, pct_foreign_born_2017, pct_foreign_born_2018, pct_foreign_born_2019, pct_foreign_born_2020, pct_foreign_born_2021, pct_it_workers_2017, pct_it_workers_2018, pct_it_workers_2019, pct_it_workers_2020, pct_it_workers_2021, median_hh_inc_2017, median_hh_inc_2018, median_hh_inc_2019, median_hh_inc_2020, median_hh_inc_2021, SUMLEV, REGION, DIVISION, STATE, COUNTY, STNAME, CTYNAME, ESTIMATESBASE2020, POPESTIMATE2020, POPESTIMATE2021, NPOPCHG2020, NPOPCHG2021, BIRTHS2020, BIRTHS2021, DEATHS2020, DEATHS2021, NATURALCHG2020, NATURALCHG2021, INTERNATIONALMIG2020, INTERNATIONALMIG2021, DOMESTICMIG2020, DOMESTICMIG2021, NETMIG2020, NETMIG2021, RESIDUAL2020, RESIDUAL2021, GQESTIMATESBASE2020, GQESTIMATES2020, GQESTIMATES2021, RBIRTH2021, RDEATH2021, RNATURALCHG2021, RINTERNATIONALMIG2021, RDOMESTICMIG2021, RNETMIG2021, rot_15_x, rot_15_y, rot_30_x, rot_30_y, rot_45_x, rot_45_y, year, ...]\n",
       "Index: []\n",
       "\n",
       "[0 rows x 120 columns]"
      ]
     },
     "execution_count": 17,
     "metadata": {},
     "output_type": "execute_result"
    }
   ],
   "source": [
    "raw[raw['microbusiness_density'].isnull()]"
   ]
  },
  {
   "cell_type": "code",
   "execution_count": 18,
   "id": "29479051",
   "metadata": {
    "execution": {
     "iopub.execute_input": "2023-03-13T21:22:35.826079Z",
     "iopub.status.busy": "2023-03-13T21:22:35.825625Z",
     "iopub.status.idle": "2023-03-13T21:30:18.975970Z",
     "shell.execute_reply": "2023-03-13T21:30:18.974766Z"
    },
    "papermill": {
     "duration": 463.170851,
     "end_time": "2023-03-13T21:30:18.985556",
     "exception": false,
     "start_time": "2023-03-13T21:22:35.814705",
     "status": "completed"
    },
    "tags": []
   },
   "outputs": [
    {
     "name": "stdout",
     "output_type": "stream",
     "text": [
      "40\n"
     ]
    },
    {
     "name": "stderr",
     "output_type": "stream",
     "text": [
      "/opt/conda/lib/python3.7/site-packages/lightgbm/engine.py:177: UserWarning: Found `n_iter` in params. Will use it instead of argument\n",
      "  _log_warning(f\"Found `{alias}` in params. Will use it instead of argument\")\n"
     ]
    },
    {
     "name": "stdout",
     "output_type": "stream",
     "text": [
      "[LightGBM] [Warning] lambda_l2 is set=0.5, reg_lambda=0.0 will be ignored. Current value: lambda_l2=0.5\n",
      "[LightGBM] [Warning] min_data_in_leaf is set=213, min_child_samples=20 will be ignored. Current value: min_data_in_leaf=213\n",
      "[LightGBM] [Warning] seed is set=42, random_state=42 will be ignored. Current value: seed=42\n",
      "[LightGBM] [Warning] num_iterations is set=300, n_iter=300 will be ignored. Current value: num_iterations=300\n"
     ]
    },
    {
     "data": {
      "text/plain": [
       "<catboost.core.CatBoostRegressor at 0x7f2631edd710>"
      ]
     },
     "execution_count": 18,
     "metadata": {},
     "output_type": "execute_result"
    }
   ],
   "source": [
    "TS = 40\n",
    "print(TS)\n",
    "\n",
    "# model0 = get_model()\n",
    "\n",
    "train_indices = (raw.istest==0) & (raw.dcount  < TS) & (raw.dcount >= 1) & (raw.lastactive>ACT_THR) \n",
    "valid_indices = (raw.dcount == TS)\n",
    "\n",
    "model0.fit(\n",
    "        raw.loc[train_indices, features],\n",
    "        raw.loc[train_indices, 'target'].clip(-0.002, 0.006))\n",
    "    \n",
    "model1.fit(\n",
    "    raw.loc[train_indices, features],\n",
    "    raw.loc[train_indices, 'target'].clip(-0.002, 0.006))\n",
    "\n",
    "model2.fit(\n",
    "    raw.loc[train_indices, features],\n",
    "    raw.loc[train_indices, 'target'].clip(-0.002, 0.006))\n",
    "\n",
    "model3.fit(\n",
    "    raw.loc[train_indices, features].fillna(method='bfill'),\n",
    "    raw.loc[train_indices, 'target'].clip(-0.002, 0.006))\n",
    "\n",
    "# Stacking\n",
    "tr_pred0 = model0.predict(raw.loc[train_indices, features])\n",
    "tr_pred1 = model1.predict(raw.loc[train_indices, features])\n",
    "tr_pred2 = model2.predict(raw.loc[train_indices, features])\n",
    "tr_pred3 = model3.predict(raw.loc[train_indices, features].fillna(method='bfill'))\n",
    "train_preds = np.column_stack((tr_pred0, tr_pred1, tr_pred2,tr_pred3))\n",
    "\n",
    "# meta_model = get_model() \n",
    "meta_model.fit(train_preds, raw.loc[train_indices, 'target'].clip(-0.002, 0.006))\n"
   ]
  },
  {
   "cell_type": "markdown",
   "id": "9fdb4c31",
   "metadata": {
    "papermill": {
     "duration": 0.009916,
     "end_time": "2023-03-13T21:30:19.005193",
     "exception": false,
     "start_time": "2023-03-13T21:30:18.995277",
     "status": "completed"
    },
    "tags": []
   },
   "source": [
    "# Recusive Prediction"
   ]
  },
  {
   "cell_type": "code",
   "execution_count": 19,
   "id": "2e74283a",
   "metadata": {
    "execution": {
     "iopub.execute_input": "2023-03-13T21:30:19.027862Z",
     "iopub.status.busy": "2023-03-13T21:30:19.027214Z",
     "iopub.status.idle": "2023-03-13T21:30:19.036353Z",
     "shell.execute_reply": "2023-03-13T21:30:19.034429Z"
    },
    "papermill": {
     "duration": 0.023908,
     "end_time": "2023-03-13T21:30:19.039314",
     "exception": false,
     "start_time": "2023-03-13T21:30:19.015406",
     "status": "completed"
    },
    "tags": []
   },
   "outputs": [],
   "source": [
    "def build_pred_features(raw, target='microbusiness_density', target_act='active_tmp', lags = 6):\n",
    "\n",
    "    for lag in range(1, lags):\n",
    "        raw[f'mbd_lag_{lag}'] = raw.groupby('cfips')[target].shift(lag)\n",
    "#         raw[f'act_lag_{lag}'] = raw.groupby('cfips')[target_act].diff(lag)\n",
    "        \n",
    "    lag = 1\n",
    "    for window in [2, 4, 6, 8, 10]:\n",
    "        raw[f'mbd_rollmea{window}_{lag}'] = raw.groupby('cfips')[f'mbd_lag_{lag}'].transform(lambda s: s.rolling(window, min_periods=1).sum())        \n",
    "    return raw"
   ]
  },
  {
   "cell_type": "code",
   "execution_count": 20,
   "id": "606bc905",
   "metadata": {
    "execution": {
     "iopub.execute_input": "2023-03-13T21:30:19.071673Z",
     "iopub.status.busy": "2023-03-13T21:30:19.068560Z",
     "iopub.status.idle": "2023-03-13T21:30:52.189806Z",
     "shell.execute_reply": "2023-03-13T21:30:52.187456Z"
    },
    "papermill": {
     "duration": 33.143791,
     "end_time": "2023-03-13T21:30:52.193135",
     "exception": false,
     "start_time": "2023-03-13T21:30:19.049344",
     "status": "completed"
    },
    "tags": []
   },
   "outputs": [
    {
     "name": "stderr",
     "output_type": "stream",
     "text": [
      "/opt/conda/lib/python3.7/site-packages/ipykernel_launcher.py:19: SettingWithCopyWarning: \n",
      "A value is trying to be set on a copy of a slice from a DataFrame.\n",
      "Try using .loc[row_indexer,col_indexer] = value instead\n",
      "\n",
      "See the caveats in the documentation: https://pandas.pydata.org/pandas-docs/stable/user_guide/indexing.html#returning-a-view-versus-a-copy\n",
      "/opt/conda/lib/python3.7/site-packages/ipykernel_launcher.py:22: SettingWithCopyWarning: \n",
      "A value is trying to be set on a copy of a slice from a DataFrame.\n",
      "Try using .loc[row_indexer,col_indexer] = value instead\n",
      "\n",
      "See the caveats in the documentation: https://pandas.pydata.org/pandas-docs/stable/user_guide/indexing.html#returning-a-view-versus-a-copy\n",
      "/opt/conda/lib/python3.7/site-packages/ipykernel_launcher.py:19: SettingWithCopyWarning: \n",
      "A value is trying to be set on a copy of a slice from a DataFrame.\n",
      "Try using .loc[row_indexer,col_indexer] = value instead\n",
      "\n",
      "See the caveats in the documentation: https://pandas.pydata.org/pandas-docs/stable/user_guide/indexing.html#returning-a-view-versus-a-copy\n",
      "/opt/conda/lib/python3.7/site-packages/ipykernel_launcher.py:22: SettingWithCopyWarning: \n",
      "A value is trying to be set on a copy of a slice from a DataFrame.\n",
      "Try using .loc[row_indexer,col_indexer] = value instead\n",
      "\n",
      "See the caveats in the documentation: https://pandas.pydata.org/pandas-docs/stable/user_guide/indexing.html#returning-a-view-versus-a-copy\n",
      "/opt/conda/lib/python3.7/site-packages/ipykernel_launcher.py:19: SettingWithCopyWarning: \n",
      "A value is trying to be set on a copy of a slice from a DataFrame.\n",
      "Try using .loc[row_indexer,col_indexer] = value instead\n",
      "\n",
      "See the caveats in the documentation: https://pandas.pydata.org/pandas-docs/stable/user_guide/indexing.html#returning-a-view-versus-a-copy\n",
      "/opt/conda/lib/python3.7/site-packages/ipykernel_launcher.py:22: SettingWithCopyWarning: \n",
      "A value is trying to be set on a copy of a slice from a DataFrame.\n",
      "Try using .loc[row_indexer,col_indexer] = value instead\n",
      "\n",
      "See the caveats in the documentation: https://pandas.pydata.org/pandas-docs/stable/user_guide/indexing.html#returning-a-view-versus-a-copy\n",
      "/opt/conda/lib/python3.7/site-packages/ipykernel_launcher.py:19: SettingWithCopyWarning: \n",
      "A value is trying to be set on a copy of a slice from a DataFrame.\n",
      "Try using .loc[row_indexer,col_indexer] = value instead\n",
      "\n",
      "See the caveats in the documentation: https://pandas.pydata.org/pandas-docs/stable/user_guide/indexing.html#returning-a-view-versus-a-copy\n",
      "/opt/conda/lib/python3.7/site-packages/ipykernel_launcher.py:22: SettingWithCopyWarning: \n",
      "A value is trying to be set on a copy of a slice from a DataFrame.\n",
      "Try using .loc[row_indexer,col_indexer] = value instead\n",
      "\n",
      "See the caveats in the documentation: https://pandas.pydata.org/pandas-docs/stable/user_guide/indexing.html#returning-a-view-versus-a-copy\n",
      "/opt/conda/lib/python3.7/site-packages/ipykernel_launcher.py:19: SettingWithCopyWarning: \n",
      "A value is trying to be set on a copy of a slice from a DataFrame.\n",
      "Try using .loc[row_indexer,col_indexer] = value instead\n",
      "\n",
      "See the caveats in the documentation: https://pandas.pydata.org/pandas-docs/stable/user_guide/indexing.html#returning-a-view-versus-a-copy\n",
      "/opt/conda/lib/python3.7/site-packages/ipykernel_launcher.py:22: SettingWithCopyWarning: \n",
      "A value is trying to be set on a copy of a slice from a DataFrame.\n",
      "Try using .loc[row_indexer,col_indexer] = value instead\n",
      "\n",
      "See the caveats in the documentation: https://pandas.pydata.org/pandas-docs/stable/user_guide/indexing.html#returning-a-view-versus-a-copy\n",
      "/opt/conda/lib/python3.7/site-packages/ipykernel_launcher.py:19: SettingWithCopyWarning: \n",
      "A value is trying to be set on a copy of a slice from a DataFrame.\n",
      "Try using .loc[row_indexer,col_indexer] = value instead\n",
      "\n",
      "See the caveats in the documentation: https://pandas.pydata.org/pandas-docs/stable/user_guide/indexing.html#returning-a-view-versus-a-copy\n",
      "/opt/conda/lib/python3.7/site-packages/ipykernel_launcher.py:22: SettingWithCopyWarning: \n",
      "A value is trying to be set on a copy of a slice from a DataFrame.\n",
      "Try using .loc[row_indexer,col_indexer] = value instead\n",
      "\n",
      "See the caveats in the documentation: https://pandas.pydata.org/pandas-docs/stable/user_guide/indexing.html#returning-a-view-versus-a-copy\n"
     ]
    }
   ],
   "source": [
    "def predict(raw,model,features):\n",
    "    pred_months=[\n",
    "                '2022-12-01',\n",
    "                '2023-01-01', \n",
    "                '2023-02-01', \n",
    "                '2023-03-01', \n",
    "                '2023-04-01', \n",
    "                '2023-05-01', \n",
    "                '2023-06-01'\n",
    "    ]\n",
    "    \n",
    "    df_preds=raw.sort_values('first_day_of_month').reset_index(drop=True)\n",
    "    df_new=raw.copy()\n",
    "\n",
    "    for i,cur_month in enumerate(pred_months):\n",
    "        if i: # starting from second one, we need to calculate mbd first \n",
    "            df_pred=df_new.query('first_day_of_month==@cur_month')  # query next month for prediction\n",
    "            df_t=df_new.query('first_day_of_month==@prev_month')\n",
    "            df_t['next_mbd']=df_t['microbusiness_density']*(1+df_t['target'])\n",
    "\n",
    "            d=df_t[['cfips','next_mbd']].set_index('cfips').to_dict()\n",
    "            df_pred['microbusiness_density']=df_pred['cfips'].map(d['next_mbd'])\n",
    "\n",
    "            indices=df_pred.index\n",
    "            df_new.loc[indices,'microbusiness_density']=df_pred['microbusiness_density']\n",
    "\n",
    "        df_new = build_pred_features(df_new, 'target', 'active', lags = 9)\n",
    "        df_pred=df_new.query('first_day_of_month==@cur_month')  # query next month for prediction\n",
    "\n",
    "        # prediction\n",
    "        val_preds0 = model0.predict(df_pred[features])\n",
    "        val_preds1 = model1.predict(df_pred[features])\n",
    "        val_preds2 = model2.predict(df_pred[features])\n",
    "        val_preds3 = model3.predict(df_pred[features].fillna(method='bfill'))\n",
    "        valid_preds = np.column_stack((val_preds0, val_preds1, val_preds2,val_preds3))\n",
    "\n",
    "        pred = meta_model.predict(valid_preds)\n",
    "\n",
    "        \n",
    "        indices=df_pred.index\n",
    "        df_new.loc[indices,'target']=pred\n",
    "\n",
    "        prev_month=cur_month\n",
    "    \n",
    "    return df_new\n",
    "\n",
    "raw_pred=predict(raw,model0,features)"
   ]
  },
  {
   "cell_type": "markdown",
   "id": "12f8cf6a",
   "metadata": {
    "papermill": {
     "duration": 0.010263,
     "end_time": "2023-03-13T21:30:52.213166",
     "exception": false,
     "start_time": "2023-03-13T21:30:52.202903",
     "status": "completed"
    },
    "tags": []
   },
   "source": [
    "# Postprocessing (Recursive)"
   ]
  },
  {
   "cell_type": "code",
   "execution_count": 21,
   "id": "4dad2f52",
   "metadata": {
    "execution": {
     "iopub.execute_input": "2023-03-13T21:30:52.234914Z",
     "iopub.status.busy": "2023-03-13T21:30:52.234428Z",
     "iopub.status.idle": "2023-03-13T21:30:52.276911Z",
     "shell.execute_reply": "2023-03-13T21:30:52.274828Z"
    },
    "papermill": {
     "duration": 0.056947,
     "end_time": "2023-03-13T21:30:52.279903",
     "exception": false,
     "start_time": "2023-03-13T21:30:52.222956",
     "status": "completed"
    },
    "tags": []
   },
   "outputs": [],
   "source": [
    "blacklist = [\n",
    "    'North Dakota', 'Iowa', 'Kansas', 'Nebraska', 'South Dakota','New Mexico', 'Alaska', 'Vermont'\n",
    "]\n",
    "blacklistcfips = [\n",
    "1019,1027,1029,1035,1039,1045,1049,1057,1067,1071,1077,1085,1091,1099,1101,1123,1131,1133,4001,4012,4013,4021,4023,5001,5003,5005,5017,5019,5027,5031,5035,5047,5063,5065,5071,5081,5083,5087,5091,5093,5107,5109,5115,5121,5137,5139,5141,5147,6003,6015,6027,6033,6053,6055,6057,6071,6093,6097,6103,6105,6115,8003,8007,8009,8019,8021,8023,8047,8051,8053,8055,8057,8059,8061,8065,8067,8069,8071,8073,8075,8085,8091,8093,8097,8099,8103,8105,8107,8109,8111,8115,8117,8121,9007,9009,9015,12009,12017,12019,12029,12047,12055,12065,12075,12093,12107,12127,13005,13007,13015,13017,13019,13027,13035,13047,13065,13081,13083,13099,13107,13109,13117,13119,13121,13123,13125,13127,13135,13143,13147,13161,13165,13171,13175,13181,13193,13201,13221,13225,13229,13231,13233,13245,13247,13249,13257,13279,13281,13287,13289,13293,13301,13319,15001,15005,15007,16001,16003,16005,16007,16013,16015,16017,16023,16025,16029,16031,16033,16035,16037,16043,16045,16049,16061,16063,16067,17001,17003,17007,17009,17013,17015,17023,17025,17031,17035,17045,17051,17059,17061,17063,17065,17067,17069,17075,17077,17081,17085,17087,17103,17105,17107,17109,17115,17117,17123,17127,17133,17137,17141,17143,17147,17153,17167,17169,17171,17177,17179,17181,17185,17187,17193,18001,18007,18009,18013,18015,18019,18021,18025,18035,18037,18039,18041,18053,18061,18075,18079,18083,18087,18099,18103,18111,18113,18115,18137,18139,18145,18153,18171,18179,21001,21003,21013,21017,21023,21029,21035,21037,21039,21045,21047,21055,21059,21065,21075,21077,21085,21091,21093,21097,21099,21101,21103,21115,21125,21137,21139,21141,21149,21155,21157,21161,21165,21179,21183,21191,21197,21199,21215,21217,21223,21227,21237,21239,22019,22021,22031,22039,22041,22047,22069,22085,22089,22101,22103,22109,22111,22115,22119,22121,23003,23009,23021,23027,23029,24011,24027,24029,24031,24035,24037,24039,24041,25011,25015,26003,26007,26011,26019,26021,26025,26027,26033,26037,26041,26043,26051,26053,26057,26059,26061,26065,26071,26077,26079,26083,26089,26097,26101,26103,26109,26111,26115,26117,26119,26127,26129,26131,26135,26141,26143,26155,26161,26165,27005,27011,27013,27015,27017,27021,27023,27025,27029,27047,27051,27055,27057,27065,27069,27073,27075,27077,27079,27087,27091,27095,27101,27103,27105,27107,27109,27113,27117,27119,27123,27125,27129,27131,27133,27135,27141,27147,27149,27155,27159,27167,27169,28017,28019,28023,28025,28035,28045,28049,28061,28063,28093,28097,28099,28125,28137,28139,28147,28159,29001,29015,29019,29031,29033,29041,29049,29051,29055,29057,29063,29065,29069,29075,29085,29089,29101,29103,29111,29121,29123,29125,29135,29137,29139,29143,29157,29159,29161,29167,29171,29173,29175,29177,29183,29195,29197,29199,29203,29205,29207,29209,29213,29215,29217,29223,29227,29229,30005,30009,30025,30027,30033,30035,30037,30039,30045,30049,30051,30053,30055,30057,30059,30069,30071,30073,30077,30079,30083,30085,30089,30091,30093,30101,30103,30105,30107,30109,32005,32009,32017,32023,32027,32029,32510,33005,33007,34021,34027,34033,34035,36011,36017,36023,36033,36043,36047,36049,36051,36057,36061,36067,36083,36091,36097,36103,36107,36113,36115,36121,36123,37005,37009,37011,37017,37023,37029,37031,37049,37061,37075,37095,37117,37123,37131,37137,37151,37187,37189,37197,39005,39009,39015,39017,39019,39023,39037,39039,39043,39049,39053,39057,39063,39067,39071,39077,39085,39087,39091,39097,39105,39107,39113,39117,39119,39125,39127,39129,39135,39137,39151,39153,39157,40003,40013,40015,40023,40025,40027,40035,40039,40043,40045,40053,40055,40057,40059,40065,40067,40073,40077,40079,40099,40105,40107,40111,40115,40123,40127,40129,40133,40141,40147,40151,40153,41001,41007,41013,41015,41017,41021,41025,41031,41033,41037,41051,41055,41063,41067,41069,42005,42007,42011,42013,42015,42019,42027,42029,42031,42035,42053,42057,42067,42071,42083,42085,42093,42097,42105,42111,42113,42115,42123,42125,42127,42129,44005,44007,44009,45001,45009,45021,45025,45031,45059,45067,45071,45073,45089,47001,47005,47013,47015,47019,47021,47023,47027,47035,47039,47041,47047,47055,47057,47059,47061,47069,47073,47075,47077,47083,47087,47099,47105,47121,47127,47131,47133,47135,47137,47147,47151,47153,47159,47161,47163,47169,47177,47183,47185,48001,48011,48017,48019,48045,48057,48059,48063,48065,48073,48077,48079,48081,48083,48087,48095,48101,48103,48107,48109,48115,48117,48119,48123,48125,48129,48149,48151,48153,48155,48159,48161,48165,48175,48189,48191,48195,48197,48211,48221,48229,48233,48235,48237,48239,48241,48243,48245,48255,48261,48263,48265,48267,48269,48275,48277,48283,48293,48299,48305,48311,48313,48319,48321,48323,48327,48333,48345,48347,48355,48369,48377,48379,48383,48387,48389,48401,48403,48413,48417,48431,48433,48437,48443,48447,48453,48455,48457,48461,48463,48465,48469,48471,48481,48483,48485,48487,48495,48499,49001,49009,49013,49019,49027,49031,49045,51005,51017,51025,51029,51031,51036,51037,51043,51057,51059,51065,51071,51073,51077,51079,51083,51091,51095,51097,51101,51111,51115,51119,51121,51127,51135,51147,51155,51159,51165,51167,51171,51173,51181,51183,51191,51197,51530,51590,51610,51620,51670,51678,51720,51735,51750,51770,51810,51820,53013,53019,53023,53031,53033,53037,53039,53041,53047,53065,53069,53071,53075,54013,54019,54025,54031,54033,54041,54049,54055,54057,54063,54067,54071,54077,54079,54085,54089,54103,55001,55003,55005,55007,55011,55017,55021,55025,55029,55037,55043,55047,55049,55051,55061,55065,55067,55075,55077,55091,55097,55101,55103,55109,55117,55123,55125,55127,56007,56009,56011,56015,56017,56019,56021,56027,56031,56037,56043,56045,\n",
    "12061,  6095, 49025, 18073, 29029, 29097, 48419, 51830, 30067, 26095, 18159, 32001, 54065, 54027, 13043, 48177, 55069, 48137, 30087, 29007, 13055, 48295, 28157, 29037, 45061, 22053, 13199, 47171, 53001, 55041, 51195, 18127, 29151, 48307, 51009, 16047, 29133,  5145, 17175, 21027, 48357, 29179, 13023, 16077, 48371, 21057, 16039, 21143, 48435, 48317, 48475,  5129, 36041, 48075, 29017, 47175, 39167, 47109, 17189, 17173, 28009, 39027, 48133, 18129, 48217, 40081, 36021,  6005, 42099, 18051, 36055, 53051, 6109, 21073, 27019,  6051, 48055,  8083, 48503, 17021, 10003, 41061, 22001, 22011, 21205, 48223, 51103, 51047, 16069, 17033, 41011,  6035, 47145, 27083, 18165, 36055, 12001, 26159,  8125, 34017,\n",
    "28141, 55119, 48405, 40029, 18125, 21135, 29073, 55115, 37149,55039, 26029, 12099, 13251, 48421, 39007, 41043, 22015, 37115,54099, 51137, 22049, 55131, 17159, 56001, 40005, 18017, 28091,47101, 27037, 29005, 13239, 21019, 55085, 48253, 51139, 40101,13283, 18049, 39163, 45049, 51113,\n",
    "]"
   ]
  },
  {
   "cell_type": "code",
   "execution_count": 22,
   "id": "3c8bac38",
   "metadata": {
    "execution": {
     "iopub.execute_input": "2023-03-13T21:30:52.300327Z",
     "iopub.status.busy": "2023-03-13T21:30:52.299919Z",
     "iopub.status.idle": "2023-03-13T21:30:52.378927Z",
     "shell.execute_reply": "2023-03-13T21:30:52.377134Z"
    },
    "papermill": {
     "duration": 0.092363,
     "end_time": "2023-03-13T21:30:52.382073",
     "exception": false,
     "start_time": "2023-03-13T21:30:52.289710",
     "status": "completed"
    },
    "scrolled": true,
    "tags": []
   },
   "outputs": [],
   "source": [
    "lastval = raw.loc[raw.dcount==TS, ['cfips', 'microbusiness_density']].set_index('cfips').to_dict()['microbusiness_density']\n",
    "lastactive = raw.loc[raw.dcount==TS, ['cfips', 'active']].set_index('cfips').to_dict()['active']\n",
    "\n",
    "df = raw_pred.loc[(raw_pred.dcount>=(TS+1)), ['cfips','state', 'microbusiness_density']]#.to_dict()['microbusiness_density']\n",
    "# df = raw_pred.loc[raw_pred.dcount>=TS, ['cfips', 'microbusiness_density']]#.to_dict()['microbusiness_density']\n",
    "df['lastval'] = df['cfips'].map(lastval)\n",
    "df['lastactive'] = df['cfips'].map(lastactive)\n",
    "\n",
    "df.loc[df['lastactive']<=ACT_THR, 'microbusiness_density'] = df.loc[df['lastactive']<=ACT_THR, 'lastval']\n",
    "\n",
    "df.loc[df['state'].isin(blacklist), 'pred'] = df.loc[df['state'].isin(blacklist), 'lastval']\n",
    "df.loc[df['cfips'].isin(blacklistcfips), 'pred'] = df.loc[df['cfips'].isin(blacklistcfips), 'lastval']\n",
    "\n",
    "raw.loc[raw.dcount>=(TS+1), 'ypred'] = df['microbusiness_density'].values\n",
    "raw.loc[raw.dcount>=(TS+1), 'ypred_last'] = df['lastval'].values\n",
    "\n",
    "raw.loc[raw['cfips']==28055, 'microbusiness_density'] = 0\n",
    "raw.loc[raw['cfips']==48269, 'microbusiness_density'] = 1.762115"
   ]
  },
  {
   "cell_type": "markdown",
   "id": "3f1fa986",
   "metadata": {
    "papermill": {
     "duration": 0.009258,
     "end_time": "2023-03-13T21:30:52.401097",
     "exception": false,
     "start_time": "2023-03-13T21:30:52.391839",
     "status": "completed"
    },
    "tags": []
   },
   "source": [
    "# Population Adjustment"
   ]
  },
  {
   "cell_type": "code",
   "execution_count": 23,
   "id": "b268e3aa",
   "metadata": {
    "execution": {
     "iopub.execute_input": "2023-03-13T21:30:52.423075Z",
     "iopub.status.busy": "2023-03-13T21:30:52.422622Z",
     "iopub.status.idle": "2023-03-13T21:30:53.195926Z",
     "shell.execute_reply": "2023-03-13T21:30:53.194060Z"
    },
    "papermill": {
     "duration": 0.787798,
     "end_time": "2023-03-13T21:30:53.198898",
     "exception": false,
     "start_time": "2023-03-13T21:30:52.411100",
     "status": "completed"
    },
    "tags": []
   },
   "outputs": [],
   "source": [
    "COLS = ['GEO_ID','NAME','S0101_C01_026E']\n",
    "df2020 = pd.read_csv('/kaggle/input/census-data-for-godaddy/ACSST5Y2020.S0101-Data.csv', usecols=COLS, dtype = 'object')\n",
    "df2021 = pd.read_csv('/kaggle/input/census-data-for-godaddy/ACSST5Y2021.S0101-Data.csv',usecols=COLS, dtype = 'object')\n",
    "\n",
    "df2020 = df2020.iloc[1:]\n",
    "df2020 = df2020.astype({'S0101_C01_026E':'int'})\n",
    "\n",
    "df2021 = df2021.iloc[1:]\n",
    "df2021 = df2021.astype({'S0101_C01_026E':'int'})\n",
    "\n",
    "df2020['cfips'] = df2020.GEO_ID.apply(lambda x: int(x.split('US')[-1]))\n",
    "df2020.set_index('cfips',inplace=True)\n",
    "# adult2020 = df2020.set_index('cfips').S0101_C01_026E.to_dict()\n",
    "\n",
    "df2021['cfips'] = df2021.GEO_ID.apply(lambda x: int(x.split('US')[-1]))\n",
    "df2021.set_index('cfips',inplace=True)\n",
    "# adult2021 = df2021.set_index('cfips').S0101_C01_026E.to_dict()\n",
    "\n",
    "# df2020['mnoshitel'] = df2020['S0101_C01_026E'] / df2021['S0101_C01_026E']\n",
    "# df2020 = df2020[['cfips','mnoshitel']]\n",
    "\n",
    "\n",
    "\n",
    "df2020['ppl_2020']=df2020['S0101_C01_026E']\n",
    "df2020['ppl_2021']=df2021['S0101_C01_026E'].sample(len(df2020))\n",
    "\n",
    "df2020 = df2020[['ppl_2020','ppl_2021']]"
   ]
  },
  {
   "cell_type": "code",
   "execution_count": 24,
   "id": "af0a4232",
   "metadata": {
    "execution": {
     "iopub.execute_input": "2023-03-13T21:30:53.221804Z",
     "iopub.status.busy": "2023-03-13T21:30:53.220591Z",
     "iopub.status.idle": "2023-03-13T21:30:53.426732Z",
     "shell.execute_reply": "2023-03-13T21:30:53.425423Z"
    },
    "papermill": {
     "duration": 0.220064,
     "end_time": "2023-03-13T21:30:53.429154",
     "exception": false,
     "start_time": "2023-03-13T21:30:53.209090",
     "status": "completed"
    },
    "tags": []
   },
   "outputs": [],
   "source": [
    "raw = raw.join(df2020, on='cfips')\n",
    "maska = (raw[\"first_day_of_month\"]>='2023-01-01')\n",
    "raw.loc[maska, 'microbusiness_density'] = np.round(raw.loc[maska, 'ypred'] * raw.loc[maska, 'ppl_2020'])/raw.loc[maska, 'ppl_2021']\n",
    "# raw.drop(columns = 'mnoshitel' , inplace = True)\n",
    "raw.drop(columns = ['ppl_2020','ppl_2021'] , inplace = True)"
   ]
  },
  {
   "cell_type": "markdown",
   "id": "ce4494f8",
   "metadata": {
    "papermill": {
     "duration": 0.009502,
     "end_time": "2023-03-13T21:30:53.448961",
     "exception": false,
     "start_time": "2023-03-13T21:30:53.439459",
     "status": "completed"
    },
    "tags": []
   },
   "source": [
    "# Build Submission"
   ]
  },
  {
   "cell_type": "code",
   "execution_count": 25,
   "id": "5b311f73",
   "metadata": {
    "execution": {
     "iopub.execute_input": "2023-03-13T21:30:53.471933Z",
     "iopub.status.busy": "2023-03-13T21:30:53.470991Z",
     "iopub.status.idle": "2023-03-13T21:30:53.587833Z",
     "shell.execute_reply": "2023-03-13T21:30:53.586820Z"
    },
    "papermill": {
     "duration": 0.130808,
     "end_time": "2023-03-13T21:30:53.589759",
     "exception": false,
     "start_time": "2023-03-13T21:30:53.458951",
     "status": "completed"
    },
    "tags": []
   },
   "outputs": [
    {
     "data": {
      "text/html": [
       "<div>\n",
       "<style scoped>\n",
       "    .dataframe tbody tr th:only-of-type {\n",
       "        vertical-align: middle;\n",
       "    }\n",
       "\n",
       "    .dataframe tbody tr th {\n",
       "        vertical-align: top;\n",
       "    }\n",
       "\n",
       "    .dataframe thead th {\n",
       "        text-align: right;\n",
       "    }\n",
       "</style>\n",
       "<table border=\"1\" class=\"dataframe\">\n",
       "  <thead>\n",
       "    <tr style=\"text-align: right;\">\n",
       "      <th></th>\n",
       "      <th>row_id</th>\n",
       "      <th>microbusiness_density</th>\n",
       "    </tr>\n",
       "  </thead>\n",
       "  <tbody>\n",
       "    <tr>\n",
       "      <th>39</th>\n",
       "      <td>1001_2022-11-01</td>\n",
       "      <td>3.442677</td>\n",
       "    </tr>\n",
       "    <tr>\n",
       "      <th>40</th>\n",
       "      <td>1001_2022-12-01</td>\n",
       "      <td>3.470915</td>\n",
       "    </tr>\n",
       "    <tr>\n",
       "      <th>41</th>\n",
       "      <td>1001_2023-01-01</td>\n",
       "      <td>3.336154</td>\n",
       "    </tr>\n",
       "    <tr>\n",
       "      <th>42</th>\n",
       "      <td>1001_2023-02-01</td>\n",
       "      <td>3.349633</td>\n",
       "    </tr>\n",
       "    <tr>\n",
       "      <th>43</th>\n",
       "      <td>1001_2023-03-01</td>\n",
       "      <td>3.358815</td>\n",
       "    </tr>\n",
       "    <tr>\n",
       "      <th>44</th>\n",
       "      <td>1001_2023-04-01</td>\n",
       "      <td>3.368581</td>\n",
       "    </tr>\n",
       "    <tr>\n",
       "      <th>45</th>\n",
       "      <td>1001_2023-05-01</td>\n",
       "      <td>3.381093</td>\n",
       "    </tr>\n",
       "    <tr>\n",
       "      <th>46</th>\n",
       "      <td>1001_2023-06-01</td>\n",
       "      <td>3.393200</td>\n",
       "    </tr>\n",
       "    <tr>\n",
       "      <th>86</th>\n",
       "      <td>1003_2022-11-01</td>\n",
       "      <td>8.257636</td>\n",
       "    </tr>\n",
       "    <tr>\n",
       "      <th>87</th>\n",
       "      <td>1003_2022-12-01</td>\n",
       "      <td>8.250630</td>\n",
       "    </tr>\n",
       "    <tr>\n",
       "      <th>88</th>\n",
       "      <td>1003_2023-01-01</td>\n",
       "      <td>7.979085</td>\n",
       "    </tr>\n",
       "    <tr>\n",
       "      <th>89</th>\n",
       "      <td>1003_2023-02-01</td>\n",
       "      <td>8.015637</td>\n",
       "    </tr>\n",
       "    <tr>\n",
       "      <th>90</th>\n",
       "      <td>1003_2023-03-01</td>\n",
       "      <td>8.033913</td>\n",
       "    </tr>\n",
       "    <tr>\n",
       "      <th>91</th>\n",
       "      <td>1003_2023-04-01</td>\n",
       "      <td>8.053221</td>\n",
       "    </tr>\n",
       "    <tr>\n",
       "      <th>92</th>\n",
       "      <td>1003_2023-05-01</td>\n",
       "      <td>8.072182</td>\n",
       "    </tr>\n",
       "    <tr>\n",
       "      <th>93</th>\n",
       "      <td>1003_2023-06-01</td>\n",
       "      <td>8.088425</td>\n",
       "    </tr>\n",
       "    <tr>\n",
       "      <th>133</th>\n",
       "      <td>1005_2022-11-01</td>\n",
       "      <td>1.247223</td>\n",
       "    </tr>\n",
       "    <tr>\n",
       "      <th>134</th>\n",
       "      <td>1005_2022-12-01</td>\n",
       "      <td>1.252272</td>\n",
       "    </tr>\n",
       "    <tr>\n",
       "      <th>135</th>\n",
       "      <td>1005_2023-01-01</td>\n",
       "      <td>1.247962</td>\n",
       "    </tr>\n",
       "    <tr>\n",
       "      <th>136</th>\n",
       "      <td>1005_2023-02-01</td>\n",
       "      <td>1.254914</td>\n",
       "    </tr>\n",
       "    <tr>\n",
       "      <th>137</th>\n",
       "      <td>1005_2023-03-01</td>\n",
       "      <td>1.261065</td>\n",
       "    </tr>\n",
       "    <tr>\n",
       "      <th>138</th>\n",
       "      <td>1005_2023-04-01</td>\n",
       "      <td>1.267517</td>\n",
       "    </tr>\n",
       "    <tr>\n",
       "      <th>139</th>\n",
       "      <td>1005_2023-05-01</td>\n",
       "      <td>1.274319</td>\n",
       "    </tr>\n",
       "    <tr>\n",
       "      <th>140</th>\n",
       "      <td>1005_2023-06-01</td>\n",
       "      <td>1.281470</td>\n",
       "    </tr>\n",
       "    <tr>\n",
       "      <th>180</th>\n",
       "      <td>1007_2022-11-01</td>\n",
       "      <td>1.275998</td>\n",
       "    </tr>\n",
       "    <tr>\n",
       "      <th>181</th>\n",
       "      <td>1007_2022-12-01</td>\n",
       "      <td>1.287240</td>\n",
       "    </tr>\n",
       "    <tr>\n",
       "      <th>182</th>\n",
       "      <td>1007_2023-01-01</td>\n",
       "      <td>1.293146</td>\n",
       "    </tr>\n",
       "    <tr>\n",
       "      <th>183</th>\n",
       "      <td>1007_2023-02-01</td>\n",
       "      <td>1.298708</td>\n",
       "    </tr>\n",
       "    <tr>\n",
       "      <th>184</th>\n",
       "      <td>1007_2023-03-01</td>\n",
       "      <td>1.302247</td>\n",
       "    </tr>\n",
       "    <tr>\n",
       "      <th>185</th>\n",
       "      <td>1007_2023-04-01</td>\n",
       "      <td>1.306180</td>\n",
       "    </tr>\n",
       "    <tr>\n",
       "      <th>186</th>\n",
       "      <td>1007_2023-05-01</td>\n",
       "      <td>1.309775</td>\n",
       "    </tr>\n",
       "    <tr>\n",
       "      <th>187</th>\n",
       "      <td>1007_2023-06-01</td>\n",
       "      <td>1.312753</td>\n",
       "    </tr>\n",
       "    <tr>\n",
       "      <th>227</th>\n",
       "      <td>1009_2022-11-01</td>\n",
       "      <td>1.836289</td>\n",
       "    </tr>\n",
       "    <tr>\n",
       "      <th>228</th>\n",
       "      <td>1009_2022-12-01</td>\n",
       "      <td>1.852060</td>\n",
       "    </tr>\n",
       "    <tr>\n",
       "      <th>229</th>\n",
       "      <td>1009_2023-01-01</td>\n",
       "      <td>1.827592</td>\n",
       "    </tr>\n",
       "    <tr>\n",
       "      <th>230</th>\n",
       "      <td>1009_2023-02-01</td>\n",
       "      <td>1.834074</td>\n",
       "    </tr>\n",
       "    <tr>\n",
       "      <th>231</th>\n",
       "      <td>1009_2023-03-01</td>\n",
       "      <td>1.839981</td>\n",
       "    </tr>\n",
       "    <tr>\n",
       "      <th>232</th>\n",
       "      <td>1009_2023-04-01</td>\n",
       "      <td>1.847437</td>\n",
       "    </tr>\n",
       "    <tr>\n",
       "      <th>233</th>\n",
       "      <td>1009_2023-05-01</td>\n",
       "      <td>1.852901</td>\n",
       "    </tr>\n",
       "    <tr>\n",
       "      <th>234</th>\n",
       "      <td>1009_2023-06-01</td>\n",
       "      <td>1.857857</td>\n",
       "    </tr>\n",
       "  </tbody>\n",
       "</table>\n",
       "</div>"
      ],
      "text/plain": [
       "              row_id  microbusiness_density\n",
       "39   1001_2022-11-01               3.442677\n",
       "40   1001_2022-12-01               3.470915\n",
       "41   1001_2023-01-01               3.336154\n",
       "42   1001_2023-02-01               3.349633\n",
       "43   1001_2023-03-01               3.358815\n",
       "44   1001_2023-04-01               3.368581\n",
       "45   1001_2023-05-01               3.381093\n",
       "46   1001_2023-06-01               3.393200\n",
       "86   1003_2022-11-01               8.257636\n",
       "87   1003_2022-12-01               8.250630\n",
       "88   1003_2023-01-01               7.979085\n",
       "89   1003_2023-02-01               8.015637\n",
       "90   1003_2023-03-01               8.033913\n",
       "91   1003_2023-04-01               8.053221\n",
       "92   1003_2023-05-01               8.072182\n",
       "93   1003_2023-06-01               8.088425\n",
       "133  1005_2022-11-01               1.247223\n",
       "134  1005_2022-12-01               1.252272\n",
       "135  1005_2023-01-01               1.247962\n",
       "136  1005_2023-02-01               1.254914\n",
       "137  1005_2023-03-01               1.261065\n",
       "138  1005_2023-04-01               1.267517\n",
       "139  1005_2023-05-01               1.274319\n",
       "140  1005_2023-06-01               1.281470\n",
       "180  1007_2022-11-01               1.275998\n",
       "181  1007_2022-12-01               1.287240\n",
       "182  1007_2023-01-01               1.293146\n",
       "183  1007_2023-02-01               1.298708\n",
       "184  1007_2023-03-01               1.302247\n",
       "185  1007_2023-04-01               1.306180\n",
       "186  1007_2023-05-01               1.309775\n",
       "187  1007_2023-06-01               1.312753\n",
       "227  1009_2022-11-01               1.836289\n",
       "228  1009_2022-12-01               1.852060\n",
       "229  1009_2023-01-01               1.827592\n",
       "230  1009_2023-02-01               1.834074\n",
       "231  1009_2023-03-01               1.839981\n",
       "232  1009_2023-04-01               1.847437\n",
       "233  1009_2023-05-01               1.852901\n",
       "234  1009_2023-06-01               1.857857"
      ]
     },
     "execution_count": 25,
     "metadata": {},
     "output_type": "execute_result"
    }
   ],
   "source": [
    "test = raw[raw.first_day_of_month >= '2022-11-01'].copy()\n",
    "test = test[['row_id', 'cfips', 'microbusiness_density']]\n",
    "test = test[['row_id', 'microbusiness_density']]\n",
    "test.to_csv('submission.csv', index=False)\n",
    "test.head(40)"
   ]
  },
  {
   "cell_type": "code",
   "execution_count": 26,
   "id": "91bb39fb",
   "metadata": {
    "execution": {
     "iopub.execute_input": "2023-03-13T21:30:53.613369Z",
     "iopub.status.busy": "2023-03-13T21:30:53.612654Z",
     "iopub.status.idle": "2023-03-13T21:30:53.623044Z",
     "shell.execute_reply": "2023-03-13T21:30:53.621338Z"
    },
    "papermill": {
     "duration": 0.025493,
     "end_time": "2023-03-13T21:30:53.625580",
     "exception": false,
     "start_time": "2023-03-13T21:30:53.600087",
     "status": "completed"
    },
    "tags": []
   },
   "outputs": [
    {
     "data": {
      "text/html": [
       "<div>\n",
       "<style scoped>\n",
       "    .dataframe tbody tr th:only-of-type {\n",
       "        vertical-align: middle;\n",
       "    }\n",
       "\n",
       "    .dataframe tbody tr th {\n",
       "        vertical-align: top;\n",
       "    }\n",
       "\n",
       "    .dataframe thead th {\n",
       "        text-align: right;\n",
       "    }\n",
       "</style>\n",
       "<table border=\"1\" class=\"dataframe\">\n",
       "  <thead>\n",
       "    <tr style=\"text-align: right;\">\n",
       "      <th></th>\n",
       "      <th>row_id</th>\n",
       "      <th>microbusiness_density</th>\n",
       "    </tr>\n",
       "  </thead>\n",
       "  <tbody>\n",
       "  </tbody>\n",
       "</table>\n",
       "</div>"
      ],
      "text/plain": [
       "Empty DataFrame\n",
       "Columns: [row_id, microbusiness_density]\n",
       "Index: []"
      ]
     },
     "execution_count": 26,
     "metadata": {},
     "output_type": "execute_result"
    }
   ],
   "source": [
    "test[test.microbusiness_density.isnull()]\n"
   ]
  },
  {
   "cell_type": "code",
   "execution_count": null,
   "id": "138b2b8c",
   "metadata": {
    "papermill": {
     "duration": 0.010368,
     "end_time": "2023-03-13T21:30:53.646634",
     "exception": false,
     "start_time": "2023-03-13T21:30:53.636266",
     "status": "completed"
    },
    "tags": []
   },
   "outputs": [],
   "source": []
  },
  {
   "cell_type": "code",
   "execution_count": null,
   "id": "a4ad1397",
   "metadata": {
    "papermill": {
     "duration": 0.010091,
     "end_time": "2023-03-13T21:30:53.667674",
     "exception": false,
     "start_time": "2023-03-13T21:30:53.657583",
     "status": "completed"
    },
    "tags": []
   },
   "outputs": [],
   "source": []
  }
 ],
 "metadata": {
  "kernelspec": {
   "display_name": "Python 3",
   "language": "python",
   "name": "python3"
  },
  "language_info": {
   "codemirror_mode": {
    "name": "ipython",
    "version": 3
   },
   "file_extension": ".py",
   "mimetype": "text/x-python",
   "name": "python",
   "nbconvert_exporter": "python",
   "pygments_lexer": "ipython3",
   "version": "3.7.12"
  },
  "papermill": {
   "default_parameters": {},
   "duration": 980.113778,
   "end_time": "2023-03-13T21:30:55.111217",
   "environment_variables": {},
   "exception": null,
   "input_path": "__notebook__.ipynb",
   "output_path": "__notebook__.ipynb",
   "parameters": {},
   "start_time": "2023-03-13T21:14:34.997439",
   "version": "2.3.4"
  },
  "widgets": {
   "application/vnd.jupyter.widget-state+json": {
    "state": {
     "2cfcde52688e44dd90c96402874e2189": {
      "model_module": "@jupyter-widgets/controls",
      "model_module_version": "1.5.0",
      "model_name": "HTMLModel",
      "state": {
       "_dom_classes": [],
       "_model_module": "@jupyter-widgets/controls",
       "_model_module_version": "1.5.0",
       "_model_name": "HTMLModel",
       "_view_count": null,
       "_view_module": "@jupyter-widgets/controls",
       "_view_module_version": "1.5.0",
       "_view_name": "HTMLView",
       "description": "",
       "description_tooltip": null,
       "layout": "IPY_MODEL_c852e3c5c75542c88d9bee076a7a06b6",
       "placeholder": "​",
       "style": "IPY_MODEL_6f8dd351e718465fb98d135b6373ae43",
       "value": " 3135/3135 [00:06&lt;00:00, 481.23it/s]"
      }
     },
     "368dfcac1019440983225e7b3b0eb4d8": {
      "model_module": "@jupyter-widgets/controls",
      "model_module_version": "1.5.0",
      "model_name": "HBoxModel",
      "state": {
       "_dom_classes": [],
       "_model_module": "@jupyter-widgets/controls",
       "_model_module_version": "1.5.0",
       "_model_name": "HBoxModel",
       "_view_count": null,
       "_view_module": "@jupyter-widgets/controls",
       "_view_module_version": "1.5.0",
       "_view_name": "HBoxView",
       "box_style": "",
       "children": [
        "IPY_MODEL_5b44f8943a6c412c82feb3d57f913e3a",
        "IPY_MODEL_dab95eda86be45cebeaa7f8609ade07c",
        "IPY_MODEL_2cfcde52688e44dd90c96402874e2189"
       ],
       "layout": "IPY_MODEL_ba4064b910f440ba9ef984eb75b33a92"
      }
     },
     "458cd823a8954992a6d4c899b3c4048f": {
      "model_module": "@jupyter-widgets/base",
      "model_module_version": "1.2.0",
      "model_name": "LayoutModel",
      "state": {
       "_model_module": "@jupyter-widgets/base",
       "_model_module_version": "1.2.0",
       "_model_name": "LayoutModel",
       "_view_count": null,
       "_view_module": "@jupyter-widgets/base",
       "_view_module_version": "1.2.0",
       "_view_name": "LayoutView",
       "align_content": null,
       "align_items": null,
       "align_self": null,
       "border": null,
       "bottom": null,
       "display": null,
       "flex": null,
       "flex_flow": null,
       "grid_area": null,
       "grid_auto_columns": null,
       "grid_auto_flow": null,
       "grid_auto_rows": null,
       "grid_column": null,
       "grid_gap": null,
       "grid_row": null,
       "grid_template_areas": null,
       "grid_template_columns": null,
       "grid_template_rows": null,
       "height": null,
       "justify_content": null,
       "justify_items": null,
       "left": null,
       "margin": null,
       "max_height": null,
       "max_width": null,
       "min_height": null,
       "min_width": null,
       "object_fit": null,
       "object_position": null,
       "order": null,
       "overflow": null,
       "overflow_x": null,
       "overflow_y": null,
       "padding": null,
       "right": null,
       "top": null,
       "visibility": null,
       "width": null
      }
     },
     "5b44f8943a6c412c82feb3d57f913e3a": {
      "model_module": "@jupyter-widgets/controls",
      "model_module_version": "1.5.0",
      "model_name": "HTMLModel",
      "state": {
       "_dom_classes": [],
       "_model_module": "@jupyter-widgets/controls",
       "_model_module_version": "1.5.0",
       "_model_name": "HTMLModel",
       "_view_count": null,
       "_view_module": "@jupyter-widgets/controls",
       "_view_module_version": "1.5.0",
       "_view_name": "HTMLView",
       "description": "",
       "description_tooltip": null,
       "layout": "IPY_MODEL_6fd1a11ad3524197912f9d0ae972ae72",
       "placeholder": "​",
       "style": "IPY_MODEL_cc90d325eea84e9b8dc1711ecee3e6f8",
       "value": "100%"
      }
     },
     "6f8dd351e718465fb98d135b6373ae43": {
      "model_module": "@jupyter-widgets/controls",
      "model_module_version": "1.5.0",
      "model_name": "DescriptionStyleModel",
      "state": {
       "_model_module": "@jupyter-widgets/controls",
       "_model_module_version": "1.5.0",
       "_model_name": "DescriptionStyleModel",
       "_view_count": null,
       "_view_module": "@jupyter-widgets/base",
       "_view_module_version": "1.2.0",
       "_view_name": "StyleView",
       "description_width": ""
      }
     },
     "6fd1a11ad3524197912f9d0ae972ae72": {
      "model_module": "@jupyter-widgets/base",
      "model_module_version": "1.2.0",
      "model_name": "LayoutModel",
      "state": {
       "_model_module": "@jupyter-widgets/base",
       "_model_module_version": "1.2.0",
       "_model_name": "LayoutModel",
       "_view_count": null,
       "_view_module": "@jupyter-widgets/base",
       "_view_module_version": "1.2.0",
       "_view_name": "LayoutView",
       "align_content": null,
       "align_items": null,
       "align_self": null,
       "border": null,
       "bottom": null,
       "display": null,
       "flex": null,
       "flex_flow": null,
       "grid_area": null,
       "grid_auto_columns": null,
       "grid_auto_flow": null,
       "grid_auto_rows": null,
       "grid_column": null,
       "grid_gap": null,
       "grid_row": null,
       "grid_template_areas": null,
       "grid_template_columns": null,
       "grid_template_rows": null,
       "height": null,
       "justify_content": null,
       "justify_items": null,
       "left": null,
       "margin": null,
       "max_height": null,
       "max_width": null,
       "min_height": null,
       "min_width": null,
       "object_fit": null,
       "object_position": null,
       "order": null,
       "overflow": null,
       "overflow_x": null,
       "overflow_y": null,
       "padding": null,
       "right": null,
       "top": null,
       "visibility": null,
       "width": null
      }
     },
     "a92217c6582c439e84486855607fdfbe": {
      "model_module": "@jupyter-widgets/controls",
      "model_module_version": "1.5.0",
      "model_name": "ProgressStyleModel",
      "state": {
       "_model_module": "@jupyter-widgets/controls",
       "_model_module_version": "1.5.0",
       "_model_name": "ProgressStyleModel",
       "_view_count": null,
       "_view_module": "@jupyter-widgets/base",
       "_view_module_version": "1.2.0",
       "_view_name": "StyleView",
       "bar_color": null,
       "description_width": ""
      }
     },
     "ba4064b910f440ba9ef984eb75b33a92": {
      "model_module": "@jupyter-widgets/base",
      "model_module_version": "1.2.0",
      "model_name": "LayoutModel",
      "state": {
       "_model_module": "@jupyter-widgets/base",
       "_model_module_version": "1.2.0",
       "_model_name": "LayoutModel",
       "_view_count": null,
       "_view_module": "@jupyter-widgets/base",
       "_view_module_version": "1.2.0",
       "_view_name": "LayoutView",
       "align_content": null,
       "align_items": null,
       "align_self": null,
       "border": null,
       "bottom": null,
       "display": null,
       "flex": null,
       "flex_flow": null,
       "grid_area": null,
       "grid_auto_columns": null,
       "grid_auto_flow": null,
       "grid_auto_rows": null,
       "grid_column": null,
       "grid_gap": null,
       "grid_row": null,
       "grid_template_areas": null,
       "grid_template_columns": null,
       "grid_template_rows": null,
       "height": null,
       "justify_content": null,
       "justify_items": null,
       "left": null,
       "margin": null,
       "max_height": null,
       "max_width": null,
       "min_height": null,
       "min_width": null,
       "object_fit": null,
       "object_position": null,
       "order": null,
       "overflow": null,
       "overflow_x": null,
       "overflow_y": null,
       "padding": null,
       "right": null,
       "top": null,
       "visibility": null,
       "width": null
      }
     },
     "c852e3c5c75542c88d9bee076a7a06b6": {
      "model_module": "@jupyter-widgets/base",
      "model_module_version": "1.2.0",
      "model_name": "LayoutModel",
      "state": {
       "_model_module": "@jupyter-widgets/base",
       "_model_module_version": "1.2.0",
       "_model_name": "LayoutModel",
       "_view_count": null,
       "_view_module": "@jupyter-widgets/base",
       "_view_module_version": "1.2.0",
       "_view_name": "LayoutView",
       "align_content": null,
       "align_items": null,
       "align_self": null,
       "border": null,
       "bottom": null,
       "display": null,
       "flex": null,
       "flex_flow": null,
       "grid_area": null,
       "grid_auto_columns": null,
       "grid_auto_flow": null,
       "grid_auto_rows": null,
       "grid_column": null,
       "grid_gap": null,
       "grid_row": null,
       "grid_template_areas": null,
       "grid_template_columns": null,
       "grid_template_rows": null,
       "height": null,
       "justify_content": null,
       "justify_items": null,
       "left": null,
       "margin": null,
       "max_height": null,
       "max_width": null,
       "min_height": null,
       "min_width": null,
       "object_fit": null,
       "object_position": null,
       "order": null,
       "overflow": null,
       "overflow_x": null,
       "overflow_y": null,
       "padding": null,
       "right": null,
       "top": null,
       "visibility": null,
       "width": null
      }
     },
     "cc90d325eea84e9b8dc1711ecee3e6f8": {
      "model_module": "@jupyter-widgets/controls",
      "model_module_version": "1.5.0",
      "model_name": "DescriptionStyleModel",
      "state": {
       "_model_module": "@jupyter-widgets/controls",
       "_model_module_version": "1.5.0",
       "_model_name": "DescriptionStyleModel",
       "_view_count": null,
       "_view_module": "@jupyter-widgets/base",
       "_view_module_version": "1.2.0",
       "_view_name": "StyleView",
       "description_width": ""
      }
     },
     "dab95eda86be45cebeaa7f8609ade07c": {
      "model_module": "@jupyter-widgets/controls",
      "model_module_version": "1.5.0",
      "model_name": "FloatProgressModel",
      "state": {
       "_dom_classes": [],
       "_model_module": "@jupyter-widgets/controls",
       "_model_module_version": "1.5.0",
       "_model_name": "FloatProgressModel",
       "_view_count": null,
       "_view_module": "@jupyter-widgets/controls",
       "_view_module_version": "1.5.0",
       "_view_name": "ProgressView",
       "bar_style": "success",
       "description": "",
       "description_tooltip": null,
       "layout": "IPY_MODEL_458cd823a8954992a6d4c899b3c4048f",
       "max": 3135.0,
       "min": 0.0,
       "orientation": "horizontal",
       "style": "IPY_MODEL_a92217c6582c439e84486855607fdfbe",
       "value": 3135.0
      }
     }
    },
    "version_major": 2,
    "version_minor": 0
   }
  }
 },
 "nbformat": 4,
 "nbformat_minor": 5
}
